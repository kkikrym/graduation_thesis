{
  "nbformat": 4,
  "nbformat_minor": 0,
  "metadata": {
    "colab": {
      "provenance": []
    },
    "kernelspec": {
      "name": "python3",
      "display_name": "Python 3"
    },
    "language_info": {
      "name": "python"
    }
  },
  "cells": [
    {
      "cell_type": "code",
      "execution_count": null,
      "metadata": {
        "id": "nm-L8j3Vx5oV"
      },
      "outputs": [],
      "source": [
        "#----------------------------------------------------------------------------------------------------------------------------------------------------------------\n",
        "# selenuim環境設定\n",
        "#----------------------------------------------------------------------------------------------------------------------------------------------------------------\n",
        "\n",
        "print(\"前処理を開始\")\n",
        "!apt-get update\n",
        "!apt install chromium-chromedriver\n",
        "!cp /usr/lib/chromium-browser/chromedriver /usr/bin\n",
        "!pip install selenium\n",
        "from selenium import webdriver\n",
        "\n",
        "# ブラウザをheadlessモード実行\n",
        "print(\"\\nブラウザを設定\")\n",
        "options = webdriver.ChromeOptions()\n",
        "options.add_argument('--headless')\n",
        "options.add_argument('--no-sandbox')\n",
        "options.add_argument('--disable-dev-shm-usage')\n",
        "driver = webdriver.Chrome('chromedriver',options=options)\n",
        "driver.implicitly_wait(10)\n",
        "\n",
        "print(\"\\n完了\")"
      ]
    },
    {
      "cell_type": "code",
      "source": [
        "#----------------------------------------------------------------------------------------------------------------------------------------------------------------\n",
        "# ライブラリインポート\n",
        "#----------------------------------------------------------------------------------------------------------------------------------------------------------------\n",
        "from selenium.webdriver.common.by import By\n",
        "from google.colab import files\n",
        "import time\n",
        "import pandas as pd\n",
        "import os\n",
        "import json\n",
        "from tqdm import tqdm\n",
        "import urllib.request\n",
        "from google.colab import drive\n",
        "drive.mount('/content/drive')"
      ],
      "metadata": {
        "colab": {
          "base_uri": "https://localhost:8080/"
        },
        "id": "sXtfIe1mXDu_",
        "outputId": "dd3cb436-58ed-4d37-e4e4-1876c2341d64"
      },
      "execution_count": null,
      "outputs": [
        {
          "output_type": "stream",
          "name": "stdout",
          "text": [
            "Drive already mounted at /content/drive; to attempt to forcibly remount, call drive.mount(\"/content/drive\", force_remount=True).\n"
          ]
        }
      ]
    },
    {
      "cell_type": "code",
      "source": [
        "#----------------------------------------------------------------------------------------------------------------------------------------------------------------\n",
        "# Components\n",
        "#----------------------------------------------------------------------------------------------------------------------------------------------------------------\n",
        "import json\n",
        "\n",
        "# テキストファイル読み込み・一行ごとにリスト化\n",
        "def txt_load(filename):\n",
        "    l = []\n",
        "    with open(filename, \"r\") as f:\n",
        "        for line in f:\n",
        "            l.append(line.rstrip())\n",
        "    return l\n",
        "\n",
        "# リストをテキストファイルへ書き出し\n",
        "def txt_dump(filename, item):\n",
        "    with open(filename, \"w\") as f:\n",
        "        for line in item:\n",
        "            f.write(line + \"\\n\")\n",
        "    print(\"item saved to txt file \\'\"+ str(filename) +\"\\'\")\n",
        "\n",
        "# Jsonファイル読み込み\n",
        "def json_load(filename):\n",
        "    with open(filename, \"r\") as f:\n",
        "        j = json.load(f)\n",
        "    return j\n",
        "\n",
        "# Jsonファイル書き出し\n",
        "def json_dump(filename, item):\n",
        "    with open(filename, \"w\") as f:\n",
        "        json.dump(item, f)\n",
        "    print(\"item saved to json file \\'\"+ str(filename) +\"\\'\")\n"
      ],
      "metadata": {
        "id": "gsIHt1bKVfv-"
      },
      "execution_count": null,
      "outputs": []
    },
    {
      "cell_type": "code",
      "source": [
        "# 対象のリンクと国名をリスト化\n",
        "dirpath = \"drive/MyDrive/卒論/\"\n",
        "filename_countries = \"country-list.txt\"\n",
        "filename_link = \"link-list.txt\"\n",
        "\n",
        "list_link = txt_load(dirpath + filename_link)\n",
        "list_country = txt_load(dirpath + filename_countries)\n",
        "\n",
        "# リスト内リンク先のCSVのリンクを取得、ダウンロード/エラーが出たものをリストerrorsに格納\n",
        "upload_to = 'drive/MyDrive/卒論/csvs/'\n",
        "errors = []\n",
        "for i, item in tqdm(enumerate(list_link)):\n",
        "  link_page = list_link[i]\n",
        "  try:\n",
        "    driver.get(link_page)\n",
        "    time.sleep(1)\n",
        "    link_csv = driver.find_element(By.CSS_SELECTOR, '#csv-version').get_attribute(\"href\")\n",
        "    urllib.request.urlretrieve(link_csv, upload_to + list_country[i] + \"_osmarketshare.csv\")\n",
        "  except:\n",
        "    errors.append(list_country[i])"
      ],
      "metadata": {
        "id": "WIMEx2mcd-y-"
      },
      "execution_count": null,
      "outputs": []
    },
    {
      "cell_type": "code",
      "source": [
        "!pip install wbdata\n",
        "import wbdata"
      ],
      "metadata": {
        "colab": {
          "base_uri": "https://localhost:8080/"
        },
        "id": "0L4YAgvEs652",
        "outputId": "7510d16f-e67d-48d1-c419-251a5327ade1"
      },
      "execution_count": null,
      "outputs": [
        {
          "output_type": "stream",
          "name": "stdout",
          "text": [
            "Looking in indexes: https://pypi.org/simple, https://us-python.pkg.dev/colab-wheels/public/simple/\n",
            "Collecting wbdata\n",
            "  Downloading wbdata-0.3.0-py3-none-any.whl (14 kB)\n",
            "Requirement already satisfied: requests>=2.0 in /usr/local/lib/python3.7/dist-packages (from wbdata) (2.23.0)\n",
            "Requirement already satisfied: decorator>=4.0 in /usr/local/lib/python3.7/dist-packages (from wbdata) (4.4.2)\n",
            "Requirement already satisfied: tabulate>=0.8.5 in /usr/local/lib/python3.7/dist-packages (from wbdata) (0.8.10)\n",
            "Requirement already satisfied: appdirs<2.0,>=1.4 in /usr/local/lib/python3.7/dist-packages (from wbdata) (1.4.4)\n",
            "Requirement already satisfied: certifi>=2017.4.17 in /usr/local/lib/python3.7/dist-packages (from requests>=2.0->wbdata) (2022.9.24)\n",
            "Requirement already satisfied: chardet<4,>=3.0.2 in /usr/local/lib/python3.7/dist-packages (from requests>=2.0->wbdata) (3.0.4)\n",
            "Requirement already satisfied: urllib3!=1.25.0,!=1.25.1,<1.26,>=1.21.1 in /usr/local/lib/python3.7/dist-packages (from requests>=2.0->wbdata) (1.24.3)\n",
            "Requirement already satisfied: idna<3,>=2.5 in /usr/local/lib/python3.7/dist-packages (from requests>=2.0->wbdata) (2.10)\n",
            "Installing collected packages: wbdata\n",
            "Successfully installed wbdata-0.3.0\n"
          ]
        }
      ]
    }
  ]
}