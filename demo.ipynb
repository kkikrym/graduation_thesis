{
 "cells": [
  {
   "cell_type": "code",
   "execution_count": 7,
   "metadata": {},
   "outputs": [],
   "source": [
    "#----------------------------------------------------------------------------------------------------------------------------------------------------------------\n",
    "# Components\n",
    "#----------------------------------------------------------------------------------------------------------------------------------------------------------------\n",
    "import json\n",
    "def txt_load(filename):\n",
    "    l = []\n",
    "    with open(filename, \"r\") as f:\n",
    "        for line in f:\n",
    "            l.append(line.rstrip())\n",
    "    return l\n",
    "\n",
    "def txt_dump(filename, item):\n",
    "    with open(filename, \"w\") as f:\n",
    "        for line in item:\n",
    "            f.write(line + \"\\n\")\n",
    "    print(\"item saved to txt file \\'\"+ str(filename) +\"\\'\")\n",
    "\n",
    "def json_load(filename):\n",
    "    with open(filename, \"r\") as f:\n",
    "        j = json.load(f)\n",
    "    return j\n",
    "\n",
    "def json_dump(filename, item):\n",
    "    with open(filename, \"w\") as f:\n",
    "        json.dump(item, f)\n",
    "    print(\"item saved to json file \\'\"+ str(filename) +\"\\'\")"
   ]
  },
  {
   "cell_type": "code",
   "execution_count": 10,
   "metadata": {},
   "outputs": [],
   "source": [
    "#----------------------------------------------------------------------------------------------------------------------------------------------------------------\n",
    "# 国名とUrlのリストをテキストファイルより読み込み\n",
    "#----------------------------------------------------------------------------------------------------------------------------------------------------------------\n",
    "ap = \"/Users/kokimac/卒論/c.txt\"\n",
    "bp = \"/Users/kokimac/卒論/country-list.txt\"\n",
    "\n",
    "a = txt_load(ap)\n",
    "b = txt_load(bp)"
   ]
  },
  {
   "cell_type": "code",
   "execution_count": 14,
   "metadata": {},
   "outputs": [
    {
     "name": "stdout",
     "output_type": "stream",
     "text": [
      "['Bonaire, Sint Eustatius and Saba', 'Bouvet Island', 'Curaçao', 'French Southern Territories', 'Heard Island and McDonald Islands', 'Sint Maarten (Dutch part', 'South Georgia and the South Sandwich Islands', 'South Sudan']\n"
     ]
    }
   ],
   "source": [
    "l = []\n",
    "for item in a:\n",
    "    if not item in b:\n",
    "        l.append(item)\n",
    "print(l)\n"
   ]
  },
  {
   "cell_type": "code",
   "execution_count": 8,
   "metadata": {},
   "outputs": [
    {
     "data": {
      "text/html": [
       "<div>\n",
       "<style scoped>\n",
       "    .dataframe tbody tr th:only-of-type {\n",
       "        vertical-align: middle;\n",
       "    }\n",
       "\n",
       "    .dataframe tbody tr th {\n",
       "        vertical-align: top;\n",
       "    }\n",
       "\n",
       "    .dataframe thead th {\n",
       "        text-align: right;\n",
       "    }\n",
       "</style>\n",
       "<table border=\"1\" class=\"dataframe\">\n",
       "  <thead>\n",
       "    <tr style=\"text-align: right;\">\n",
       "      <th></th>\n",
       "      <th></th>\n",
       "      <th>GDP</th>\n",
       "    </tr>\n",
       "    <tr>\n",
       "      <th>country</th>\n",
       "      <th>date</th>\n",
       "      <th></th>\n",
       "    </tr>\n",
       "  </thead>\n",
       "  <tbody>\n",
       "    <tr>\n",
       "      <th rowspan=\"5\" valign=\"top\">Africa Eastern and Southern</th>\n",
       "      <th>2021</th>\n",
       "      <td>4.303667</td>\n",
       "    </tr>\n",
       "    <tr>\n",
       "      <th>2020</th>\n",
       "      <td>-2.886856</td>\n",
       "    </tr>\n",
       "    <tr>\n",
       "      <th>2019</th>\n",
       "      <td>2.025941</td>\n",
       "    </tr>\n",
       "    <tr>\n",
       "      <th>2018</th>\n",
       "      <td>2.485244</td>\n",
       "    </tr>\n",
       "    <tr>\n",
       "      <th>2017</th>\n",
       "      <td>2.557135</td>\n",
       "    </tr>\n",
       "    <tr>\n",
       "      <th>...</th>\n",
       "      <th>...</th>\n",
       "      <td>...</td>\n",
       "    </tr>\n",
       "    <tr>\n",
       "      <th rowspan=\"5\" valign=\"top\">Zimbabwe</th>\n",
       "      <th>1964</th>\n",
       "      <td>-1.106172</td>\n",
       "    </tr>\n",
       "    <tr>\n",
       "      <th>1963</th>\n",
       "      <td>6.244345</td>\n",
       "    </tr>\n",
       "    <tr>\n",
       "      <th>1962</th>\n",
       "      <td>1.434471</td>\n",
       "    </tr>\n",
       "    <tr>\n",
       "      <th>1961</th>\n",
       "      <td>6.316157</td>\n",
       "    </tr>\n",
       "    <tr>\n",
       "      <th>1960</th>\n",
       "      <td>NaN</td>\n",
       "    </tr>\n",
       "  </tbody>\n",
       "</table>\n",
       "<p>16492 rows × 1 columns</p>\n",
       "</div>"
      ],
      "text/plain": [
       "                                       GDP\n",
       "country                     date          \n",
       "Africa Eastern and Southern 2021  4.303667\n",
       "                            2020 -2.886856\n",
       "                            2019  2.025941\n",
       "                            2018  2.485244\n",
       "                            2017  2.557135\n",
       "...                                    ...\n",
       "Zimbabwe                    1964 -1.106172\n",
       "                            1963  6.244345\n",
       "                            1962  1.434471\n",
       "                            1961  6.316157\n",
       "                            1960       NaN\n",
       "\n",
       "[16492 rows x 1 columns]"
      ]
     },
     "execution_count": 8,
     "metadata": {},
     "output_type": "execute_result"
    }
   ],
   "source": [
    "#----------------------------------------------------------------------------------------------------------------------------------------------------------------\n",
    "# World Bank APIデモ\n",
    "#----------------------------------------------------------------------------------------------------------------------------------------------------------------\n",
    "\n",
    "import wbdata\n",
    "indicator = {\"NY.GDP.MKTP.KD.ZG\":\"GDP\"}\n",
    "country = \"all\"\n",
    "d =  wbdata.get_dataframe(indicator, country=country)\n",
    "d"
   ]
  },
  {
   "cell_type": "code",
   "execution_count": 10,
   "metadata": {},
   "outputs": [],
   "source": [
    "import pandas as pd\n",
    "d.to_csv(\"wbdata_sample.csv\")"
   ]
  }
 ],
 "metadata": {
  "kernelspec": {
   "display_name": "Python 3.10.4 64-bit ('3.10.4')",
   "language": "python",
   "name": "python3"
  },
  "language_info": {
   "codemirror_mode": {
    "name": "ipython",
    "version": 3
   },
   "file_extension": ".py",
   "mimetype": "text/x-python",
   "name": "python",
   "nbconvert_exporter": "python",
   "pygments_lexer": "ipython3",
   "version": "3.10.4"
  },
  "orig_nbformat": 4,
  "vscode": {
   "interpreter": {
    "hash": "ad3b4d39921608da9fed93012b82e5c62c1476db4c4469b9dce07aa0c4f462f7"
   }
  }
 },
 "nbformat": 4,
 "nbformat_minor": 2
}
